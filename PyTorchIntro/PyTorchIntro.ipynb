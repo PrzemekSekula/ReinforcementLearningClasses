{
 "cells": [
  {
   "attachments": {},
   "cell_type": "markdown",
   "metadata": {},
   "source": [
    "# PyTorch Intro\n",
    "This is a simple exercise that introduces the basics of PyTorch.\n",
    "\n",
    "<a target=\"_blank\" href=\"https://colab.research.google.com/github/PrzemekSekula/ReinforcementLearningClasses/blob/master/PyTorchIntro/PyTorchIntro.ipynb\">\n",
    "    <img src=\"https://www.tensorflow.org/images/colab_logo_32px.png\" />\n",
    "    Run in Google Colab</a>"
   ]
  },
  {
   "cell_type": "code",
   "execution_count": null,
   "metadata": {},
   "outputs": [],
   "source": [
    "import pandas as pd\n",
    "from tqdm import tqdm\n",
    "\n",
    "import matplotlib.pyplot as plt\n",
    "%matplotlib inline"
   ]
  },
  {
   "cell_type": "code",
   "execution_count": null,
   "metadata": {},
   "outputs": [],
   "source": [
    "df = pd.read_csv('https://raw.githubusercontent.com/PrzemekSekula/ReinforcementLearningClasses/main/PyTorchIntro/data.csv')   \n",
    "df.head()"
   ]
  },
  {
   "cell_type": "code",
   "execution_count": null,
   "metadata": {},
   "outputs": [],
   "source": [
    "X = df.drop('price', axis=1)\n",
    "y = df[['price']]"
   ]
  },
  {
   "cell_type": "code",
   "execution_count": null,
   "metadata": {},
   "outputs": [],
   "source": [
    "from sklearn.model_selection import train_test_split\n",
    "X_train, X_test, y_train, y_test = train_test_split(X, y, test_size = 0.25)\n",
    "print ('X train shape: ', X_train.shape)\n",
    "print ('X test shape: ', X_test.shape)\n",
    "print ('y train shape: ', y_train.shape)\n",
    "print ('y test shape: ', y_test.shape)"
   ]
  },
  {
   "attachments": {},
   "cell_type": "markdown",
   "metadata": {},
   "source": [
    "### Task 1\n",
    "Use PyTorch to create a dense (fully connected) neural network with the parameters as follows:\n",
    "- Input layer with 3 features\n",
    "- Hidden layer with 16 neurons, relu activation function\n",
    "- Hidden layer with 8 neurons, relu activation function\n",
    "- output layer"
   ]
  },
  {
   "cell_type": "code",
   "execution_count": null,
   "metadata": {},
   "outputs": [],
   "source": [
    "import torch\n",
    "import torch.nn as nn \n",
    "import torch.nn.functional as F\n",
    "\n",
    "class NeuralNetwork(nn.Module):\n",
    "    def __init__(self, input_dim = 3, \n",
    "                 hidden_dim1 = 16, hidden_dim2 = 8, \n",
    "                 output_dim = 1):\n",
    "        \n",
    "        pass # ENTER YOUR CODE HERE\n",
    "        \n",
    "    def forward(self, x):\n",
    "        pass # ENTER YOUR CODE HERE"
   ]
  },
  {
   "attachments": {},
   "cell_type": "markdown",
   "metadata": {},
   "source": [
    "Let's check if we have a GPU available"
   ]
  },
  {
   "cell_type": "code",
   "execution_count": null,
   "metadata": {},
   "outputs": [],
   "source": [
    "pass # ENTER YOUR CODE HERE"
   ]
  },
  {
   "attachments": {},
   "cell_type": "markdown",
   "metadata": {},
   "source": [
    "Let's change pandas DataFrames to PyTorch tensors now\n"
   ]
  },
  {
   "cell_type": "code",
   "execution_count": null,
   "metadata": {},
   "outputs": [],
   "source": [
    "def df_to_tensor(df, device):\n",
    "    \"\"\" Changes a pandas dataframe to a PyTorch tensor\n",
    "    Args:\n",
    "        df (pd.DataFrame): a dataframe to be converted\n",
    "        device (torch.device): device (cpu or cuda) to \n",
    "            store the tensor on (see torch.device)\n",
    "    Returns:\n",
    "        torch.tensor: data converted to tensor\n",
    "    \"\"\"\n",
    "    return None # ENTER YOUR CODE HERE\n",
    "\n",
    "# Change your train and test subsets\n",
    "# ENTER YOUR CODE HERE"
   ]
  },
  {
   "attachments": {},
   "cell_type": "markdown",
   "metadata": {},
   "source": [
    "#### Network training\n",
    "\n",
    "Let's train the network now. In the beginning we will just try to create and train a new network."
   ]
  },
  {
   "cell_type": "code",
   "execution_count": null,
   "metadata": {},
   "outputs": [],
   "source": [
    "# ENTER YOUR CODE HERE"
   ]
  },
  {
   "attachments": {},
   "cell_type": "markdown",
   "metadata": {},
   "source": [
    "Let's do it again. This time, let's try to observe what's going on"
   ]
  },
  {
   "cell_type": "code",
   "execution_count": null,
   "metadata": {},
   "outputs": [],
   "source": [
    "from sklearn.metrics import mean_absolute_percentage_error\n",
    "\n",
    "model = NeuralNetwork().to(device)\n",
    "optimizer = torch.optim.Adam(model.parameters())\n",
    "\n",
    "train_loss_list = []\n",
    "test_loss_list = []\n",
    "\n",
    "train_mape_list = []\n",
    "test_mape_list = []\n",
    "\n",
    "# Train your model on the training data\n",
    "for epoch in tqdm(range(1000)):\n",
    "    y_pred = model(X_train)\n",
    "    loss = F.mse_loss(y_pred, y_train)\n",
    "    optimizer.zero_grad()\n",
    "    loss.backward()\n",
    "    optimizer.step()\n",
    "\n",
    "    if epoch % 50 == 0:\n",
    "        with torch.no_grad():\n",
    "            y_test_pred = # ENTER YOUR CODE HERE\n",
    "            test_loss = # ENTER YOUR CODE HERE\n",
    "            \n",
    "            train_mape = # ENTER YOUR CODE HERE\n",
    "            test_mape = # ENTER YOUR CODE HERE\n",
    "            \n",
    "            train_loss_list.append(loss.item())\n",
    "            test_loss_list.append(test_loss.item())\n",
    "\n",
    "            train_mape_list.append(train_mape)\n",
    "            test_mape_list.append(test_mape)\n",
    "            \n",
    "            \n",
    "f = plt.figure(figsize=(10, 5))\n",
    "plt.subplot(121)\n",
    "plt.plot(train_loss_list, label='Train Loss')\n",
    "plt.plot(test_loss_list, label='Test Loss')\n",
    "plt.legend()\n",
    "plt.subplot(122)\n",
    "plt.plot(train_mape_list, label='Train MAPE')\n",
    "plt.plot(test_mape_list, label='Test MAPE')\n",
    "plt.ylabel('MAPE [%]')\n",
    "plt.legend()\n",
    "\n",
    "\n",
    "plt.show()          "
   ]
  },
  {
   "cell_type": "code",
   "execution_count": null,
   "metadata": {},
   "outputs": [],
   "source": []
  },
  {
   "cell_type": "code",
   "execution_count": null,
   "metadata": {},
   "outputs": [],
   "source": []
  }
 ],
 "metadata": {
  "kernelspec": {
   "display_name": "gym",
   "language": "python",
   "name": "python3"
  },
  "language_info": {
   "codemirror_mode": {
    "name": "ipython",
    "version": 3
   },
   "file_extension": ".py",
   "mimetype": "text/x-python",
   "name": "python",
   "nbconvert_exporter": "python",
   "pygments_lexer": "ipython3",
   "version": "3.9.12"
  },
  "orig_nbformat": 4
 },
 "nbformat": 4,
 "nbformat_minor": 2
}
