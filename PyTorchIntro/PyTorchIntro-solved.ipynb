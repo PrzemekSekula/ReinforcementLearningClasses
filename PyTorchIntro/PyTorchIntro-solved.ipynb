{
 "cells": [
  {
   "attachments": {},
   "cell_type": "markdown",
   "metadata": {},
   "source": [
    "# PyTorch Intro\n",
    "This is a simple exercise that introduces the basics of PyTorch.\n",
    "\n",
    "<a target=\"_blank\" href=\"https://colab.research.google.com/github/PrzemekSekula/ReinforcementLearningClasses/blob/main/PyTorchIntro/PyTorchIntro-solved.ipynb\">\n",
    "    <img src=\"https://www.tensorflow.org/images/colab_logo_32px.png\" />\n",
    "    Run in Google Colab</a>"
   ]
  },
  {
   "cell_type": "code",
   "execution_count": 1,
   "metadata": {},
   "outputs": [],
   "source": [
    "import pandas as pd\n",
    "from tqdm import tqdm\n",
    "\n",
    "import matplotlib.pyplot as plt\n",
    "%matplotlib inline"
   ]
  },
  {
   "cell_type": "code",
   "execution_count": 2,
   "metadata": {},
   "outputs": [
    {
     "data": {
      "text/html": [
       "<div>\n",
       "<style scoped>\n",
       "    .dataframe tbody tr th:only-of-type {\n",
       "        vertical-align: middle;\n",
       "    }\n",
       "\n",
       "    .dataframe tbody tr th {\n",
       "        vertical-align: top;\n",
       "    }\n",
       "\n",
       "    .dataframe thead th {\n",
       "        text-align: right;\n",
       "    }\n",
       "</style>\n",
       "<table border=\"1\" class=\"dataframe\">\n",
       "  <thead>\n",
       "    <tr style=\"text-align: right;\">\n",
       "      <th></th>\n",
       "      <th>area</th>\n",
       "      <th>crime_rate</th>\n",
       "      <th>metro_proximity</th>\n",
       "      <th>price</th>\n",
       "    </tr>\n",
       "  </thead>\n",
       "  <tbody>\n",
       "    <tr>\n",
       "      <th>0</th>\n",
       "      <td>127</td>\n",
       "      <td>4.353254</td>\n",
       "      <td>3609.371479</td>\n",
       "      <td>236</td>\n",
       "    </tr>\n",
       "    <tr>\n",
       "      <th>1</th>\n",
       "      <td>117</td>\n",
       "      <td>1.679765</td>\n",
       "      <td>2221.716693</td>\n",
       "      <td>230</td>\n",
       "    </tr>\n",
       "    <tr>\n",
       "      <th>2</th>\n",
       "      <td>39</td>\n",
       "      <td>8.455495</td>\n",
       "      <td>1565.989757</td>\n",
       "      <td>94</td>\n",
       "    </tr>\n",
       "    <tr>\n",
       "      <th>3</th>\n",
       "      <td>131</td>\n",
       "      <td>2.014797</td>\n",
       "      <td>3405.380227</td>\n",
       "      <td>232</td>\n",
       "    </tr>\n",
       "    <tr>\n",
       "      <th>4</th>\n",
       "      <td>96</td>\n",
       "      <td>3.707401</td>\n",
       "      <td>1227.551028</td>\n",
       "      <td>219</td>\n",
       "    </tr>\n",
       "  </tbody>\n",
       "</table>\n",
       "</div>"
      ],
      "text/plain": [
       "   area  crime_rate  metro_proximity  price\n",
       "0   127    4.353254      3609.371479    236\n",
       "1   117    1.679765      2221.716693    230\n",
       "2    39    8.455495      1565.989757     94\n",
       "3   131    2.014797      3405.380227    232\n",
       "4    96    3.707401      1227.551028    219"
      ]
     },
     "execution_count": 2,
     "metadata": {},
     "output_type": "execute_result"
    }
   ],
   "source": [
    "df = pd.read_csv('https://raw.githubusercontent.com/PrzemekSekula/ReinforcementLearningClasses/main/PyTorchIntro/data.csv')   \n",
    "df.head()"
   ]
  },
  {
   "cell_type": "code",
   "execution_count": 3,
   "metadata": {},
   "outputs": [],
   "source": [
    "X = df.drop('price', axis=1)\n",
    "y = df[['price']]"
   ]
  },
  {
   "cell_type": "code",
   "execution_count": 4,
   "metadata": {},
   "outputs": [
    {
     "name": "stdout",
     "output_type": "stream",
     "text": [
      "X train shape:  (375, 3)\n",
      "X test shape:  (125, 3)\n",
      "y train shape:  (375, 1)\n",
      "y test shape:  (125, 1)\n"
     ]
    }
   ],
   "source": [
    "from sklearn.model_selection import train_test_split\n",
    "X_train, X_test, y_train, y_test = train_test_split(X, y, test_size = 0.25)\n",
    "print ('X train shape: ', X_train.shape)\n",
    "print ('X test shape: ', X_test.shape)\n",
    "print ('y train shape: ', y_train.shape)\n",
    "print ('y test shape: ', y_test.shape)"
   ]
  },
  {
   "attachments": {},
   "cell_type": "markdown",
   "metadata": {},
   "source": [
    "### Task 1\n",
    "Use PyTorch to create a dense (fully connected) neural network with the parameters as follows:\n",
    "- Input layer with 3 features\n",
    "- Hidden layer with 16 neurons, relu activation function\n",
    "- Hidden layer with 4 neurons, relu activation function\n",
    "- output layer"
   ]
  },
  {
   "cell_type": "code",
   "execution_count": 10,
   "metadata": {},
   "outputs": [],
   "source": [
    "import torch\n",
    "import torch.nn as nn \n",
    "\n",
    "class NeuralNetwork(nn.Module):\n",
    "    def __init__(self, input_dim = 3, \n",
    "                 hidden_dim1 = 16, hidden_dim2 = 8, \n",
    "                 output_dim = 1):\n",
    "        \n",
    "        super(NeuralNetwork, self).__init__()\n",
    "        self.fc1 = nn.Linear(input_dim, hidden_dim1)\n",
    "        self.relu1 = nn.ReLU()\n",
    "        self.fc2 = nn.Linear(hidden_dim1, hidden_dim2)\n",
    "        self.relu2 = nn.ReLU()\n",
    "        self.fc3 = nn.Linear(hidden_dim2, output_dim)\n",
    "        \n",
    "    def forward(self, x):\n",
    "        out = self.fc1(x)\n",
    "        out = self.relu1(out)\n",
    "        out = self.fc2(out)\n",
    "        out = self.relu2(out)\n",
    "        out = self.fc3(out)\n",
    "        return out"
   ]
  },
  {
   "attachments": {},
   "cell_type": "markdown",
   "metadata": {},
   "source": [
    "Let's check if we have a GPU available"
   ]
  },
  {
   "cell_type": "code",
   "execution_count": 6,
   "metadata": {},
   "outputs": [
    {
     "name": "stdout",
     "output_type": "stream",
     "text": [
      "cuda:0\n"
     ]
    }
   ],
   "source": [
    "if torch.cuda.is_available():\n",
    "    device = torch.device('cuda:0') # Use first GPU\n",
    "else:\n",
    "    device = torch.device('cpu') # No GPU\n",
    "\n",
    "print (device)"
   ]
  },
  {
   "cell_type": "code",
   "execution_count": 8,
   "metadata": {},
   "outputs": [],
   "source": [
    "def df_to_tensor(df, device):\n",
    "    \"\"\" Changes a pandas dataframe to a PyTorch tensor\n",
    "    Args:\n",
    "        df (pd.DataFrame): a dataframe to be converted\n",
    "        device (torch.device): device (cpu or cuda) to \n",
    "            store the tensor on (see torch.device)\n",
    "    Returns:\n",
    "        torch.tensor: data converted to tensor\n",
    "    \"\"\"\n",
    "    return torch.from_numpy(df.values).float().to(device)\n",
    "\n",
    "X_train = df_to_tensor(X_train, device)\n",
    "X_test = df_to_tensor(X_test, device)\n",
    "y_train = df_to_tensor(y_train, device)\n",
    "y_test = df_to_tensor(y_test, device)"
   ]
  },
  {
   "attachments": {},
   "cell_type": "markdown",
   "metadata": {},
   "source": [
    "#### Network training\n",
    "\n",
    "Let's train the network now. In the beginning we will just try to create and train a new network."
   ]
  },
  {
   "cell_type": "code",
   "execution_count": 13,
   "metadata": {},
   "outputs": [
    {
     "name": "stdout",
     "output_type": "stream",
     "text": [
      "Training... Epoch 1000\r"
     ]
    }
   ],
   "source": [
    "import torch.nn.functional as F\n",
    "\n",
    "model = NeuralNetwork().to(device)\n",
    "optimizer = torch.optim.Adam(model.parameters())\n",
    "\n",
    "for epoch in tqdm(range(1000)):\n",
    "    y_pred = model(X_train)\n",
    "    loss = F.mse_loss(y_pred, y_train)\n",
    "    optimizer.zero_grad()\n",
    "    loss.backward()\n",
    "    optimizer.step()\n",
    "    "
   ]
  },
  {
   "attachments": {},
   "cell_type": "markdown",
   "metadata": {},
   "source": [
    "Let's do it again. This time, let's try to observe what's going on"
   ]
  },
  {
   "cell_type": "code",
   "execution_count": 19,
   "metadata": {},
   "outputs": [
    {
     "name": "stdout",
     "output_type": "stream",
     "text": [
      "Epoch 1000, Train Loss: 882, Test Loss: 937 Train MAPE: 13.0%, Test MAPE 13.0%        \r"
     ]
    },
    {
     "data": {
      "image/png": "[encoded data removed]",
      "text/plain": [
       "<Figure size 720x360 with 2 Axes>"
      ]
     },
     "metadata": {
      "needs_background": "light"
     },
     "output_type": "display_data"
    }
   ],
   "source": [
    "from sklearn.metrics import mean_absolute_percentage_error\n",
    "\n",
    "model = NeuralNetwork().to(device)\n",
    "optimizer = torch.optim.Adam(model.parameters())\n",
    "\n",
    "train_loss_list = []\n",
    "test_loss_list = []\n",
    "\n",
    "train_mape_list = []\n",
    "test_mape_list = []\n",
    "\n",
    "# Train your model on the training data\n",
    "for epoch in tqdm(range(1000)):\n",
    "    y_pred = model(X_train)\n",
    "    loss = F.mse_loss(y_pred, y_train)\n",
    "    optimizer.zero_grad()\n",
    "    loss.backward()\n",
    "    optimizer.step()\n",
    "\n",
    "    if epoch % 50 == 0:\n",
    "        with torch.no_grad():\n",
    "            y_test_pred = model(X_test)\n",
    "            test_loss = F.mse_loss(y_test_pred, y_test)\n",
    "            \n",
    "            train_mape = 100 * mean_absolute_percentage_error(y_train.cpu().numpy(), y_pred.cpu().numpy())\n",
    "            test_mape = 100 * mean_absolute_percentage_error(y_test.cpu().numpy(), y_test_pred.cpu().numpy())            \n",
    "            \n",
    "            train_loss_list.append(loss.item())\n",
    "            test_loss_list.append(test_loss.item())\n",
    "\n",
    "            train_mape_list.append(train_mape)\n",
    "            test_mape_list.append(test_mape)\n",
    "            \n",
    "            \n",
    "f = plt.figure(figsize=(10, 5))\n",
    "plt.subplot(121)\n",
    "plt.plot(train_loss_list, label='Train Loss')\n",
    "plt.plot(test_loss_list, label='Test Loss')\n",
    "plt.legend()\n",
    "plt.subplot(122)\n",
    "plt.plot(train_mape_list, label='Train MAPE')\n",
    "plt.plot(test_mape_list, label='Test MAPE')\n",
    "plt.ylabel('MAPE [%]')\n",
    "plt.legend()\n",
    "\n",
    "\n",
    "plt.show()          "
   ]
  },
  {
   "cell_type": "code",
   "execution_count": null,
   "metadata": {},
   "outputs": [],
   "source": []
  },
  {
   "cell_type": "code",
   "execution_count": null,
   "metadata": {},
   "outputs": [],
   "source": []
  }
 ],
 "metadata": {
  "kernelspec": {
   "display_name": "gym",
   "language": "python",
   "name": "python3"
  },
  "language_info": {
   "codemirror_mode": {
    "name": "ipython",
    "version": 3
   },
   "file_extension": ".py",
   "mimetype": "text/x-python",
   "name": "python",
   "nbconvert_exporter": "python",
   "pygments_lexer": "ipython3",
   "version": "3.9.12"
  },
  "orig_nbformat": 4
 },
 "nbformat": 4,
 "nbformat_minor": 2
}
