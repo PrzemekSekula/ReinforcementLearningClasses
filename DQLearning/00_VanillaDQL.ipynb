{
 "cells": [
  {
   "attachments": {},
   "cell_type": "markdown",
   "metadata": {},
   "source": [
    "# Vanilla Deep Q-Learning \n",
    "---\n",
    "In this notebook, you will implement a DQN agent with OpenAI Gym's [Cart Pole](https://www.gymlibrary.dev/environments/classic_control/cart_pole/) - environment.\n",
    "\n",
    "This is a relatively simple version of the algorithm, it differs from classical Q-Learning in four main ways:\n",
    "- we are using a neural network to estimate the state-action value\n",
    "- the neural network estimates all state-action values for a given state\n",
    "- we are using Replay Buffer to store the `s, a, r, s', done` tuples, and learning from the data sampled from the Replay Buffer, not from immediate experience.\n",
    "- we are using the decaying exploration rate $\\epsilon$. In the beginning of learning the agent is exploring a lot, and the exploration rate is reduced in time.\n",
    "\n",
    "Your task is to complete the code in this notebook. The places were you should create your own implementation are described in this notebook and marked with `# ENTER YOUR CODE HERE` comments.\n",
    "\n",
    "*Note: This code uses replay buffer implemented in the `reply_buffer.py` file. This implementation comes from [OpenAI baselines GitHub repository](https://github.com/openai/baselines/tree/master/baselines/deepq).*\n"
   ]
  },
  {
   "cell_type": "code",
   "execution_count": 1,
   "metadata": {},
   "outputs": [
    {
     "name": "stdout",
     "output_type": "stream",
     "text": [
      "Device: cuda:0\n"
     ]
    }
   ],
   "source": [
    "# Import packages\n",
    "import gym\n",
    "import torch\n",
    "import numpy as np\n",
    "from collections import deque\n",
    "import matplotlib.pyplot as plt\n",
    "%matplotlib inline\n",
    "\n",
    "device = torch.device(\"cuda:0\" if torch.cuda.is_available() else \"cpu\")\n",
    "print ('Device:', device)"
   ]
  },
  {
   "cell_type": "code",
   "execution_count": 2,
   "metadata": {},
   "outputs": [],
   "source": [
    "import sys\n",
    "IN_COLAB = \"google.colab\" in sys.modules\n",
    "\n",
    "if IN_COLAB:\n",
    "    !pip install --upgrade gym\n"
   ]
  },
  {
   "cell_type": "code",
   "execution_count": 4,
   "metadata": {},
   "outputs": [],
   "source": [
    "env = gym.make('CartPole-v1')"
   ]
  },
  {
   "attachments": {},
   "cell_type": "markdown",
   "metadata": {},
   "source": [
    "### Task 1 - Implement the neural network\n",
    "Implement the neural network (`QNetwork` class):\n",
    "1) In `__init__()` Create a neural network\n",
    "2) In `forward()` implement the forward pass with ReLU"
   ]
  },
  {
   "cell_type": "code",
   "execution_count": 5,
   "metadata": {},
   "outputs": [],
   "source": [
    "import torch\n",
    "import torch.nn as nn\n",
    "import torch.nn.functional as F\n",
    "import torch.optim as optim\n",
    "\n",
    "\n",
    "class QNetwork(nn.Module):\n",
    "    \"\"\"Fully connected (dense) neural network that estimates Q values.\"\"\"\n",
    "\n",
    "    def __init__(self, state_size, action_size, fc1_units=64, fc2_units=64):\n",
    "        \"\"\"Initialize parameters and build model.\n",
    "        Args:\n",
    "            state_size (int): Dimension of each state. It equals\n",
    "                the number of features in the network.\n",
    "            action_size (int): Dimension of each action. It equals \n",
    "                the number of the network outputs\n",
    "            fc1_units (int): Number of nodes in first hidden layer\n",
    "            fc2_units (int): Number of nodes in second hidden layer\n",
    "        \"\"\"\n",
    "        super(QNetwork, self).__init__()\n",
    "        \n",
    "        self.fc1 = nn.Linear(state_size, fc1_units)\n",
    "        self.fc2 = nn.Linear(fc1_units, fc2_units)\n",
    "        self.fc3 = nn.Linear(fc2_units, action_size)\n",
    "\n",
    "    def forward(self, state):\n",
    "        \"\"\"Build a network that maps state -> action values.\n",
    "        Args:\n",
    "            state (torch.Tensor): The state of the environment\n",
    "        Returns:\n",
    "            torch.Tensor: The action values\n",
    "        \"\"\"\n",
    "\n",
    "        x = F.relu(self.fc1(state))\n",
    "        x = F.relu(self.fc2(x))\n",
    "        return self.fc3(x)"
   ]
  },
  {
   "attachments": {},
   "cell_type": "markdown",
   "metadata": {},
   "source": [
    "### Task 2 - Implement the Agent:\n",
    "Implement the `Agent` class.\n",
    "1) In `__init__()` create a neural network, optimizer and Replay Buffer\n",
    "2) In `step()` add the experience to the memory buffer\n",
    "3) In `learn()` calculate `Q_targets` and `loss`"
   ]
  },
  {
   "cell_type": "code",
   "execution_count": 6,
   "metadata": {},
   "outputs": [],
   "source": [
    "import numpy as np\n",
    "import random\n",
    "\n",
    "from replay_buffer import ReplayBuffer\n",
    "\n",
    "device = torch.device(\"cuda:0\" if torch.cuda.is_available() else \"cpu\")\n",
    "\n",
    "class Agent():\n",
    "    \"\"\"Interacts with and learns from the environment.\"\"\"\n",
    "\n",
    "    def __init__(self, state_size, action_size,\n",
    "                 buffer_size = int(1e5),\n",
    "                 batch_size = 64,\n",
    "                 gamma = 0.99,\n",
    "                 lr = 5e-4,\n",
    "                 update_every = 4,\n",
    "                 device = None):\n",
    "        \"\"\"Initialize an Agent object.\n",
    "        Args:\n",
    "            state_size (int): dimension of each state\n",
    "            action_size (int): dimension of each action\n",
    "            buffer_size (int): replay buffer size. Default: int(1e5)\n",
    "            batch_size (int): minibatch size. Default: 64\n",
    "            gamma (float): discount factor. Default: 0.99\n",
    "            lr (float): learning rate. Default: 5e-4\n",
    "            update_every (int): how often to update the network. Default: 1        \n",
    "            device (torch.device): device to use. Default: None    \n",
    "        \"\"\"\n",
    "        self.state_size = state_size\n",
    "        self.action_size = action_size\n",
    "        self.buffer_size = buffer_size\n",
    "        self.batch_size = batch_size\n",
    "        self.gamma = gamma\n",
    "        self.lr = lr\n",
    "        self.update_every = update_every\n",
    "        self.device = device\n",
    "\n",
    "        # Q-Network\n",
    "        fc1, fc2 = 64, 16 # Size of the layers\n",
    "        # TODO: Create a network with 2 hidden layers (fc1 and fc2 nodes)\n",
    "        self.qnetwork = QNetwork(state_size, action_size, fc1, fc2).to(device)\n",
    "        \n",
    "        # TODO: Create the optimizer (Adam with learning rate lr)\n",
    "        self.optimizer = optim.Adam(self.qnetwork.parameters(), lr=lr)\n",
    "\n",
    "        # TODO: Create a Replay Buffer. Use ReplayBuffer class from the \n",
    "        # reply_buffer.py file. Use buffer_size as the buffer size\n",
    "        self.memory = ReplayBuffer(buffer_size)\n",
    "        \n",
    "        # Initialize time step (for updating every self.update_every steps)\n",
    "        self.t_step = 0\n",
    "    \n",
    "    def step(self, state, action, reward, next_state, done):\n",
    "        \n",
    "        # TODO: Save experience in replay buffer. Use self.memory.add()\n",
    "        self.memory.add(state, action, reward, next_state, done)\n",
    "        \n",
    "        # Learn every self.update_every time steps.\n",
    "        self.t_step = (self.t_step + 1) % self.update_every\n",
    "        if self.t_step == 0:\n",
    "            # If enough samples are available in memory, get random subset and learn\n",
    "            if len(self.memory) > self.batch_size:\n",
    "                experiences = self.memory.sample(self.batch_size)\n",
    "                self.learn(experiences)\n",
    "\n",
    "    def act(self, state, eps=0.):\n",
    "        \"\"\"Returns actions for given state as per current policy.\n",
    "        \n",
    "        Params\n",
    "        ======\n",
    "            state (array_like): current state\n",
    "            eps (float): epsilon, for epsilon-greedy action selection\n",
    "        \"\"\"\n",
    "        state = torch.from_numpy(state).float().unsqueeze(0).to(device)\n",
    "        self.qnetwork.eval()\n",
    "        with torch.no_grad():\n",
    "            action_values = self.qnetwork(state)\n",
    "        self.qnetwork.train()\n",
    "\n",
    "        # Epsilon-greedy action selection\n",
    "        if random.random() > eps:\n",
    "            return np.argmax(action_values.cpu().data.numpy())\n",
    "        else:\n",
    "            return random.choice(np.arange(self.action_size))\n",
    "\n",
    "    def learn(self, experiences):\n",
    "        \"\"\"Update value parameters using given batch of experience tuples.\n",
    "\n",
    "        Params\n",
    "        ======\n",
    "            experiences (Tuple[torch.Variable]): tuple of (s, a, r, s', done) tuples \n",
    "            gamma (float): discount factor\n",
    "        \"\"\"\n",
    "        states, actions, rewards, next_states, dones = experiences\n",
    "        \n",
    "        device = self.device  # for shortening the following lines\n",
    "        states = torch.FloatTensor(states).to(device)\n",
    "        actions = torch.LongTensor(actions.reshape(-1, 1)).to(device)\n",
    "        rewards = torch.FloatTensor(rewards.reshape(-1, 1)).to(device)\n",
    "        next_states = torch.FloatTensor(next_states).to(device)\n",
    "        dones = torch.FloatTensor(dones.reshape(-1, 1)).to(device)        \n",
    "        \n",
    "        # Get max predicted Q values (for next states) from target model\n",
    "        Q_next = self.qnetwork(next_states).detach().max(dim=1, keepdim=True)[0]\n",
    "        # TODO: Compute Q targets for current states \n",
    "        Q_targets = rewards + (self.gamma * Q_next * (1 - dones))\n",
    "\n",
    "        # Get expected Q values\n",
    "        Q_curr = self.qnetwork(states).gather(1, actions)\n",
    "\n",
    "        # TODO: Calculate loss. Use F.mse_loss\n",
    "        loss = F.mse_loss(Q_curr, Q_targets)\n",
    "\n",
    "        # Minimize the loss\n",
    "        self.optimizer.zero_grad()\n",
    "        loss.backward()\n",
    "        self.optimizer.step()\n",
    "        \n",
    "    def save(self, path = 'checkpoint.pth'):\n",
    "        \"\"\"Saves the network\n",
    "        Args:\n",
    "            path (str): path to save the network. Default is 'checkpoint.pth'\n",
    "        \"\"\"\n",
    "        torch.save(self.qnetwork.state_dict(), path)\n",
    " \n",
    " \n",
    "    def load(self, path = 'checkpoint.pth'):\n",
    "        \"\"\"Loads the network\n",
    "        Args:\n",
    "            path (str): path with the weights. Default is 'checkpoint.pth'\n",
    "        \"\"\"\n",
    "        self.qnetwork.load_state_dict(torch.load(path))\n",
    "        \n",
    "agent = Agent(\n",
    "    state_size=env.observation_space.shape[0], \n",
    "    action_size=env.action_space.n, device = device)        "
   ]
  },
  {
   "attachments": {},
   "cell_type": "markdown",
   "metadata": {},
   "source": [
    "### Task 3. Train the Agent\n",
    "Complete the `train_agent()` function.\n",
    "1) Select and perform an action\n",
    "2) Use `agent.step()` to update the agent's knowledge\n",
    "3) Decay the explorarion rate epsilon\n"
   ]
  },
  {
   "cell_type": "code",
   "execution_count": 7,
   "metadata": {},
   "outputs": [],
   "source": [
    "def train_agent(\n",
    "        n_episodes = 3000,    # Maximum number of episodes\n",
    "        max_t = 1000,         # Maximum number of timesteps per episode\n",
    "        eps_start = 1.0,      # Starting value of epsilon\n",
    "        eps_end = 0.01,       # Minimum value of epsilon\n",
    "        eps_decay = 0.995,    # Decay rate of epsilon\n",
    "        expected_reward = 230 # Expected average reward to solve the environment\n",
    "\n",
    "        ):\n",
    "    \"\"\"Deep Q-Learning.\n",
    "    Args:\n",
    "        n_episodes (int): maximum number of training episodes\n",
    "        max_t (int): maximum number of timesteps per episode\n",
    "        eps_start (float): starting value of epsilon, for \n",
    "            epsilon-greedy action selection\n",
    "        eps_end (float): minimum value of epsilon\n",
    "        eps_decay (float): decay factor (per episode) \n",
    "            for decreasing epsilon\n",
    "        expected_reward (float): finish when the average score\n",
    "            is greater than this value\n",
    "    Returns:\n",
    "        scores (list): list of scores from each episode\n",
    "    \"\"\"\n",
    "    scores = []                        \n",
    "    scores_window = deque(maxlen=100)  \n",
    "    eps = eps_start                    \n",
    "    for episode in range(1, n_episodes+1):\n",
    "        state, info = env.reset()\n",
    "        score = 0\n",
    "        for t in range(max_t):\n",
    "            # TO DO: select an action\n",
    "            action = agent.act(state, eps)\n",
    "            next_state, reward, done, truncated, info = env.step(action)\n",
    "            \n",
    "            # TO DO: use agent.step() to update the agent\n",
    "            agent.step(state, action, reward, next_state, done)\n",
    "            state = next_state\n",
    "            score += reward\n",
    "            if done:\n",
    "                break \n",
    "        scores_window.append(score)       \n",
    "        scores.append(score)\n",
    "        \n",
    "        # TO DO: Decay epsilon by multiplying it by eps_decay             \n",
    "        eps = max(eps_end, eps_decay*eps) \n",
    "        \n",
    "        mean_score = np.mean(scores_window)\n",
    "        \n",
    "        print(f'\\rEpisode {episode}\\tAverage Score: {mean_score:.2f}     ', end=\"\")\n",
    "        \n",
    "        if episode % 100 == 0:\n",
    "            \n",
    "            print(f'\\rEpisode {episode}\\tAverage Score: {mean_score:.2f}')\n",
    "            agent.save('checkpoint.pth')\n",
    "        if mean_score >= expected_reward:\n",
    "            print(f'\\nDone in {episode:d} episodes!\\tAverage Score: {mean_score:.2f}')\n",
    "            agent.save('checkpoint.pth')\n",
    "            break\n",
    "    return scores"
   ]
  },
  {
   "attachments": {},
   "cell_type": "markdown",
   "metadata": {},
   "source": [
    "### Train the agent"
   ]
  },
  {
   "cell_type": "code",
   "execution_count": 8,
   "metadata": {},
   "outputs": [
    {
     "name": "stdout",
     "output_type": "stream",
     "text": [
      "Episode 100\tAverage Score: 20.35     \n",
      "Episode 200\tAverage Score: 14.77     \n",
      "Episode 300\tAverage Score: 39.97     \n",
      "Episode 400\tAverage Score: 136.23     \n",
      "Episode 500\tAverage Score: 199.65     \n",
      "Episode 600\tAverage Score: 200.37     \n",
      "Episode 700\tAverage Score: 212.35     \n",
      "Episode 800\tAverage Score: 222.82     \n",
      "Episode 900\tAverage Score: 230.02     \n",
      "\n",
      "Done in 900 episodes!\tAverage Score: 230.02\n"
     ]
    },
    {
     "data": {
      "image/png": "[encoded data removed]",
      "text/plain": [
       "<Figure size 432x288 with 1 Axes>"
      ]
     },
     "metadata": {
      "needs_background": "light"
     },
     "output_type": "display_data"
    }
   ],
   "source": [
    "scores = train_agent()\n",
    "\n",
    "# plot the scores\n",
    "fig = plt.figure()\n",
    "ax = fig.add_subplot(111)\n",
    "plt.plot(np.arange(len(scores)), scores)\n",
    "plt.ylabel('Score')\n",
    "plt.xlabel('Episode #')\n",
    "plt.show()"
   ]
  },
  {
   "attachments": {},
   "cell_type": "markdown",
   "metadata": {},
   "source": [
    "### Visualize the agent's performance"
   ]
  },
  {
   "cell_type": "code",
   "execution_count": 11,
   "metadata": {},
   "outputs": [
    {
     "name": "stderr",
     "output_type": "stream",
     "text": [
      "c:\\Users\\Przemek\\anaconda3\\envs\\gym\\lib\\site-packages\\gym\\envs\\classic_control\\cartpole.py:177: UserWarning: \u001b[33mWARN: You are calling 'step()' even though this environment has already returned terminated = True. You should always call 'reset()' once you receive 'terminated = True' -- any further steps are undefined behavior.\u001b[0m\n",
      "  logger.warn(\n",
      "IMAGEIO FFMPEG_WRITER WARNING: input image is not divisible by macro_block_size=16, resizing from (600, 400) to (608, 400) to ensure video compatibility with most codecs and players. To prevent resizing, make your input image divisible by the macro_block_size or set the macro_block_size to 1 (risking incompatibility).\n"
     ]
    },
    {
     "name": "stdout",
     "output_type": "stream",
     "text": [
      "Visualization done. Episode ended after 104 steps.\n"
     ]
    },
    {
     "data": {
      "text/html": [
       "\n",
       "<video width=400 controls>\n",
       "    <source src=\"data:video/mp4;base64,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\" type=\"video/mp4\">\n",
       "</video>\n"
      ],
      "text/plain": [
       "<IPython.core.display.HTML object>"
      ]
     },
     "execution_count": 11,
     "metadata": {},
     "output_type": "execute_result"
    }
   ],
   "source": [
    "from IPython.display import HTML\n",
    "from base64 import b64encode\n",
    "import imageio\n",
    "\n",
    "def create_video(agent, video_path):\n",
    "    env = gym.make('CartPole-v1', render_mode = 'rgb_array')\n",
    "\n",
    "    state, _ = env.reset()\n",
    "    img_list = [env.render()]\n",
    "\n",
    "    for t in range(1000):\n",
    "        action = agent.act(state, 0)\n",
    "        state, reward, done, _, _ = env.step(action)\n",
    "        img_list.append(env.render())\n",
    "        state, reward, done, _, _ = env.step(action)\n",
    "        if done:\n",
    "            break \n",
    "    env.close()\n",
    "\n",
    "    # Create a video file using imageio\n",
    "    imageio.mimsave(video_path, img_list, fps=30)\n",
    "\n",
    "    print (f'Visualization done. Episode ended after {t} steps.')\n",
    "    \n",
    "    return img_list\n",
    "\n",
    "video_path = 'output.mp4'\n",
    "create_video(agent, video_path)\n",
    "\n",
    "mp4 = open(video_path,'rb').read()\n",
    "data_url = \"data:video/mp4;base64,\" + b64encode(mp4).decode()\n",
    "HTML(\"\"\"\n",
    "<video width=400 controls>\n",
    "    <source src=\"%s\" type=\"video/mp4\">\n",
    "</video>\n",
    "\"\"\" % data_url)\n"
   ]
  },
  {
   "cell_type": "code",
   "execution_count": null,
   "metadata": {},
   "outputs": [],
   "source": []
  }
 ],
 "metadata": {
  "kernelspec": {
   "display_name": "Python 3",
   "language": "python",
   "name": "python3"
  },
  "language_info": {
   "codemirror_mode": {
    "name": "ipython",
    "version": 3
   },
   "file_extension": ".py",
   "mimetype": "text/x-python",
   "name": "python",
   "nbconvert_exporter": "python",
   "pygments_lexer": "ipython3",
   "version": "3.9.12"
  }
 },
 "nbformat": 4,
 "nbformat_minor": 2
}
